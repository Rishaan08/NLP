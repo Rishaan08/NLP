{
 "cells": [
  {
   "cell_type": "code",
   "execution_count": 1,
   "metadata": {},
   "outputs": [],
   "source": [
    "corpus = \"\"\"A paragraph is a collection of words combined together to make a longer unit than a sentence.\n",
    "It's a set of sentences that are well-organized and coherent, and they're all about the same thing. \n",
    "\"\"\""
   ]
  },
  {
   "cell_type": "code",
   "execution_count": 3,
   "metadata": {},
   "outputs": [
    {
     "name": "stdout",
     "output_type": "stream",
     "text": [
      "A paragraph is a collection of words combined together to make a longer unit than a sentence.\n",
      "It's a set of sentences that are well-organized and coherent, and they're all about the same thing. \n",
      "\n"
     ]
    }
   ],
   "source": [
    "print(corpus)"
   ]
  },
  {
   "cell_type": "code",
   "execution_count": 8,
   "metadata": {},
   "outputs": [],
   "source": [
    "#Tokenization\n",
    "##Paragraphs --> Sentences\n",
    "from nltk.tokenize import sent_tokenize\n",
    "documents = sent_tokenize(corpus)"
   ]
  },
  {
   "cell_type": "code",
   "execution_count": 9,
   "metadata": {},
   "outputs": [
    {
     "data": {
      "text/plain": [
       "list"
      ]
     },
     "execution_count": 9,
     "metadata": {},
     "output_type": "execute_result"
    }
   ],
   "source": [
    "type(documents)"
   ]
  },
  {
   "cell_type": "code",
   "execution_count": 10,
   "metadata": {},
   "outputs": [
    {
     "name": "stdout",
     "output_type": "stream",
     "text": [
      "A paragraph is a collection of words combined together to make a longer unit than a sentence.\n",
      "It's a set of sentences that are well-organized and coherent, and they're all about the same thing.\n"
     ]
    }
   ],
   "source": [
    "for sentence in documents:\n",
    "    print(sentence)"
   ]
  },
  {
   "cell_type": "code",
   "execution_count": 11,
   "metadata": {},
   "outputs": [
    {
     "data": {
      "text/plain": [
       "['A',\n",
       " 'paragraph',\n",
       " 'is',\n",
       " 'a',\n",
       " 'collection',\n",
       " 'of',\n",
       " 'words',\n",
       " 'combined',\n",
       " 'together',\n",
       " 'to',\n",
       " 'make',\n",
       " 'a',\n",
       " 'longer',\n",
       " 'unit',\n",
       " 'than',\n",
       " 'a',\n",
       " 'sentence',\n",
       " '.',\n",
       " 'It',\n",
       " \"'s\",\n",
       " 'a',\n",
       " 'set',\n",
       " 'of',\n",
       " 'sentences',\n",
       " 'that',\n",
       " 'are',\n",
       " 'well-organized',\n",
       " 'and',\n",
       " 'coherent',\n",
       " ',',\n",
       " 'and',\n",
       " 'they',\n",
       " \"'re\",\n",
       " 'all',\n",
       " 'about',\n",
       " 'the',\n",
       " 'same',\n",
       " 'thing',\n",
       " '.']"
      ]
     },
     "execution_count": 11,
     "metadata": {},
     "output_type": "execute_result"
    }
   ],
   "source": [
    "##Paragraph --> Words\n",
    "##Sentence --> Words\n",
    "from nltk.tokenize import word_tokenize\n",
    "word_tokenize(corpus)"
   ]
  },
  {
   "cell_type": "code",
   "execution_count": 12,
   "metadata": {},
   "outputs": [
    {
     "name": "stdout",
     "output_type": "stream",
     "text": [
      "['A', 'paragraph', 'is', 'a', 'collection', 'of', 'words', 'combined', 'together', 'to', 'make', 'a', 'longer', 'unit', 'than', 'a', 'sentence', '.']\n",
      "['It', \"'s\", 'a', 'set', 'of', 'sentences', 'that', 'are', 'well-organized', 'and', 'coherent', ',', 'and', 'they', \"'re\", 'all', 'about', 'the', 'same', 'thing', '.']\n"
     ]
    }
   ],
   "source": [
    "for sentence in documents:\n",
    "    print(word_tokenize(sentence))"
   ]
  },
  {
   "cell_type": "code",
   "execution_count": 13,
   "metadata": {},
   "outputs": [
    {
     "data": {
      "text/plain": [
       "['A',\n",
       " 'paragraph',\n",
       " 'is',\n",
       " 'a',\n",
       " 'collection',\n",
       " 'of',\n",
       " 'words',\n",
       " 'combined',\n",
       " 'together',\n",
       " 'to',\n",
       " 'make',\n",
       " 'a',\n",
       " 'longer',\n",
       " 'unit',\n",
       " 'than',\n",
       " 'a',\n",
       " 'sentence',\n",
       " '.',\n",
       " 'It',\n",
       " \"'\",\n",
       " 's',\n",
       " 'a',\n",
       " 'set',\n",
       " 'of',\n",
       " 'sentences',\n",
       " 'that',\n",
       " 'are',\n",
       " 'well',\n",
       " '-',\n",
       " 'organized',\n",
       " 'and',\n",
       " 'coherent',\n",
       " ',',\n",
       " 'and',\n",
       " 'they',\n",
       " \"'\",\n",
       " 're',\n",
       " 'all',\n",
       " 'about',\n",
       " 'the',\n",
       " 'same',\n",
       " 'thing',\n",
       " '.']"
      ]
     },
     "execution_count": 13,
     "metadata": {},
     "output_type": "execute_result"
    }
   ],
   "source": [
    "from nltk.tokenize import wordpunct_tokenize\n",
    "wordpunct_tokenize(corpus)"
   ]
  },
  {
   "cell_type": "code",
   "execution_count": 14,
   "metadata": {},
   "outputs": [
    {
     "data": {
      "text/plain": [
       "['A',\n",
       " 'paragraph',\n",
       " 'is',\n",
       " 'a',\n",
       " 'collection',\n",
       " 'of',\n",
       " 'words',\n",
       " 'combined',\n",
       " 'together',\n",
       " 'to',\n",
       " 'make',\n",
       " 'a',\n",
       " 'longer',\n",
       " 'unit',\n",
       " 'than',\n",
       " 'a',\n",
       " 'sentence.',\n",
       " 'It',\n",
       " \"'s\",\n",
       " 'a',\n",
       " 'set',\n",
       " 'of',\n",
       " 'sentences',\n",
       " 'that',\n",
       " 'are',\n",
       " 'well-organized',\n",
       " 'and',\n",
       " 'coherent',\n",
       " ',',\n",
       " 'and',\n",
       " 'they',\n",
       " \"'re\",\n",
       " 'all',\n",
       " 'about',\n",
       " 'the',\n",
       " 'same',\n",
       " 'thing',\n",
       " '.']"
      ]
     },
     "execution_count": 14,
     "metadata": {},
     "output_type": "execute_result"
    }
   ],
   "source": [
    "from nltk.tokenize import TreebankWordTokenizer\n",
    "tokenizer = TreebankWordTokenizer()\n",
    "tokenizer.tokenize(corpus)"
   ]
  }
 ],
 "metadata": {
  "kernelspec": {
   "display_name": "tensorflow-keras",
   "language": "python",
   "name": "python3"
  },
  "language_info": {
   "codemirror_mode": {
    "name": "ipython",
    "version": 3
   },
   "file_extension": ".py",
   "mimetype": "text/x-python",
   "name": "python",
   "nbconvert_exporter": "python",
   "pygments_lexer": "ipython3",
   "version": "3.11.0"
  }
 },
 "nbformat": 4,
 "nbformat_minor": 2
}
