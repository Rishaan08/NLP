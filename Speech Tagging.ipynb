{
 "cells": [
  {
   "cell_type": "code",
   "execution_count": 1,
   "metadata": {},
   "outputs": [],
   "source": [
    "paragraph = \"\"\"Resident Evil Village[a] is a 2021 survival horror game developed and published by Capcom. It is the sequel to Resident Evil 7: Biohazard (2017) and the tenth main game of the Resident Evil series. Players control Ethan Winters, who searches for his kidnapped daughter in a village filled with mutant creatures. Village maintains survival horror elements from previous games, with players scavenging environments for items and managing resources while adding more action-oriented gameplay, with higher enemy counts and a greater emphasis on combat.\n",
    "\n",
    "Resident Evil Village was announced at the PlayStation 5 reveal event in June 2020 and was released for PlayStation 4, PlayStation 5, Stadia, Windows, Xbox One, and Xbox Series X/S on May 7, 2021. This was followed by a macOS version and a cloud version for Nintendo Switch in October 2022, and a PlayStation VR2 version on February 22, 2023. An iOS version was released on October 30, 2023.\n",
    "\n",
    "Resident Evil Village received generally positive reviews from critics, with praise for its gameplay, setting, and variety, but criticism for its puzzles, boss fights, and performance issues on the Windows version; the increased focus on action divided opinions. The game won year-end accolades including Game of the Year at the Golden Joystick Awards. It had sold over 10 million units by March 2024.\"\"\""
   ]
  },
  {
   "cell_type": "code",
   "execution_count": 4,
   "metadata": {},
   "outputs": [],
   "source": [
    "import nltk\n",
    "from nltk.corpus import stopwords\n",
    "sentences = nltk.sent_tokenize(paragraph)"
   ]
  },
  {
   "cell_type": "code",
   "execution_count": 5,
   "metadata": {},
   "outputs": [
    {
     "data": {
      "text/plain": [
       "['Resident Evil Village[a] is a 2021 survival horror game developed and published by Capcom.',\n",
       " 'It is the sequel to Resident Evil 7: Biohazard (2017) and the tenth main game of the Resident Evil series.',\n",
       " 'Players control Ethan Winters, who searches for his kidnapped daughter in a village filled with mutant creatures.',\n",
       " 'Village maintains survival horror elements from previous games, with players scavenging environments for items and managing resources while adding more action-oriented gameplay, with higher enemy counts and a greater emphasis on combat.',\n",
       " 'Resident Evil Village was announced at the PlayStation 5 reveal event in June 2020 and was released for PlayStation 4, PlayStation 5, Stadia, Windows, Xbox One, and Xbox Series X/S on May 7, 2021.',\n",
       " 'This was followed by a macOS version and a cloud version for Nintendo Switch in October 2022, and a PlayStation VR2 version on February 22, 2023.',\n",
       " 'An iOS version was released on October 30, 2023.',\n",
       " 'Resident Evil Village received generally positive reviews from critics, with praise for its gameplay, setting, and variety, but criticism for its puzzles, boss fights, and performance issues on the Windows version; the increased focus on action divided opinions.',\n",
       " 'The game won year-end accolades including Game of the Year at the Golden Joystick Awards.',\n",
       " 'It had sold over 10 million units by March 2024.']"
      ]
     },
     "execution_count": 5,
     "metadata": {},
     "output_type": "execute_result"
    }
   ],
   "source": [
    "sentences"
   ]
  },
  {
   "cell_type": "code",
   "execution_count": 6,
   "metadata": {},
   "outputs": [
    {
     "name": "stdout",
     "output_type": "stream",
     "text": [
      "[('Resident', 'NNP'), ('Evil', 'NNP'), ('Village', 'NNP'), ('[', 'NNP'), (']', 'NNP'), ('2021', 'CD'), ('survival', 'NN'), ('horror', 'NN'), ('game', 'NN'), ('developed', 'VBD'), ('published', 'VBN'), ('Capcom', 'NNP'), ('.', '.')]\n",
      "[('It', 'PRP'), ('sequel', 'VBD'), ('Resident', 'NNP'), ('Evil', 'NNP'), ('7', 'CD'), (':', ':'), ('Biohazard', 'NNP'), ('(', '('), ('2017', 'CD'), (')', ')'), ('tenth', 'NN'), ('main', 'JJ'), ('game', 'NN'), ('Resident', 'NNP'), ('Evil', 'NNP'), ('series', 'NN'), ('.', '.')]\n",
      "[('Players', 'NNS'), ('control', 'VBP'), ('Ethan', 'NNP'), ('Winters', 'NNP'), (',', ','), ('searches', 'VBZ'), ('kidnapped', 'VBN'), ('daughter', 'JJ'), ('village', 'NN'), ('filled', 'VBN'), ('mutant', 'JJ'), ('creatures', 'NNS'), ('.', '.')]\n",
      "[('Village', 'NN'), ('maintains', 'VBZ'), ('survival', 'JJ'), ('horror', 'NN'), ('elements', 'NNS'), ('previous', 'JJ'), ('games', 'NNS'), (',', ','), ('players', 'NNS'), ('scavenging', 'VBG'), ('environments', 'NNS'), ('items', 'NNS'), ('managing', 'VBG'), ('resources', 'NNS'), ('adding', 'VBG'), ('action-oriented', 'JJ'), ('gameplay', 'NN'), (',', ','), ('higher', 'JJR'), ('enemy', 'NN'), ('counts', 'NNS'), ('greater', 'JJR'), ('emphasis', 'NN'), ('combat', 'NN'), ('.', '.')]\n",
      "[('Resident', 'NNP'), ('Evil', 'NNP'), ('Village', 'NNP'), ('announced', 'VBD'), ('PlayStation', 'NNP'), ('5', 'CD'), ('reveal', 'NN'), ('event', 'NN'), ('June', 'NNP'), ('2020', 'CD'), ('released', 'VBD'), ('PlayStation', 'NNP'), ('4', 'CD'), (',', ','), ('PlayStation', 'NNP'), ('5', 'CD'), (',', ','), ('Stadia', 'NNP'), (',', ','), ('Windows', 'NNP'), (',', ','), ('Xbox', 'NNP'), ('One', 'NNP'), (',', ','), ('Xbox', 'NNP'), ('Series', 'NNP'), ('X/S', 'NNP'), ('May', 'NNP'), ('7', 'CD'), (',', ','), ('2021', 'CD'), ('.', '.')]\n",
      "[('This', 'DT'), ('followed', 'VBD'), ('macOS', 'JJ'), ('version', 'NN'), ('cloud', 'NN'), ('version', 'NN'), ('Nintendo', 'NNP'), ('Switch', 'NNP'), ('October', 'NNP'), ('2022', 'CD'), (',', ','), ('PlayStation', 'NNP'), ('VR2', 'NNP'), ('version', 'NN'), ('February', 'NNP'), ('22', 'CD'), (',', ','), ('2023', 'CD'), ('.', '.')]\n",
      "[('An', 'DT'), ('iOS', 'JJ'), ('version', 'NN'), ('released', 'VBD'), ('October', 'NNP'), ('30', 'CD'), (',', ','), ('2023', 'CD'), ('.', '.')]\n",
      "[('Resident', 'NNP'), ('Evil', 'NNP'), ('Village', 'NNP'), ('received', 'VBD'), ('generally', 'RB'), ('positive', 'JJ'), ('reviews', 'NNS'), ('critics', 'NNS'), (',', ','), ('praise', 'NN'), ('gameplay', 'NN'), (',', ','), ('setting', 'VBG'), (',', ','), ('variety', 'NN'), (',', ','), ('criticism', 'NN'), ('puzzles', 'NNS'), (',', ','), ('boss', 'IN'), ('fights', 'NNS'), (',', ','), ('performance', 'NN'), ('issues', 'NNS'), ('Windows', 'NNP'), ('version', 'NN'), (';', ':'), ('increased', 'VBN'), ('focus', 'VB'), ('action', 'NN'), ('divided', 'VBN'), ('opinions', 'NNS'), ('.', '.')]\n",
      "[('The', 'DT'), ('game', 'NN'), ('year-end', 'JJ'), ('accolades', 'NNS'), ('including', 'VBG'), ('Game', 'NNP'), ('Year', 'NNP'), ('Golden', 'NNP'), ('Joystick', 'NNP'), ('Awards', 'NNP'), ('.', '.')]\n",
      "[('It', 'PRP'), ('sold', 'VBD'), ('10', 'CD'), ('million', 'CD'), ('units', 'NNS'), ('March', 'NNP'), ('2024', 'CD'), ('.', '.')]\n"
     ]
    }
   ],
   "source": [
    "#Find the pos tag\n",
    "for i in range(len(sentences)):\n",
    "   words = nltk.word_tokenize(sentences[i])\n",
    "   words = [word for word in words if word not in set(stopwords.words('english'))]\n",
    "   pos_tag = nltk.pos_tag(words)\n",
    "   print(pos_tag)"
   ]
  },
  {
   "cell_type": "code",
   "execution_count": 15,
   "metadata": {},
   "outputs": [
    {
     "name": "stdout",
     "output_type": "stream",
     "text": [
      "[[('Taj', 'NNP'), ('Mahal', 'NNP'), ('is', 'VBZ'), ('a', 'DT'), ('beautiful', 'JJ'), ('Monument', 'NNP'), ('.', '.')]]\n"
     ]
    }
   ],
   "source": [
    "sentence = \"Taj Mahal is a beautiful Monument.\"\n",
    "tokenized_sentence = [nltk.word_tokenize(sentence)]\n",
    "pos_tag = nltk.pos_tag_sents(tokenized_sentence)\n",
    "print(pos_tag)"
   ]
  },
  {
   "cell_type": "code",
   "execution_count": 21,
   "metadata": {},
   "outputs": [
    {
     "name": "stdout",
     "output_type": "stream",
     "text": [
      "[('Taj', 'NN')]\n",
      "[('Mahal', 'NN')]\n",
      "[('is', 'VBZ')]\n",
      "[('a', 'DT')]\n",
      "[('beautiful', 'NN')]\n",
      "[('Monument.', 'NN')]\n"
     ]
    }
   ],
   "source": [
    "sentence = \"Taj Mahal is a beautiful Monument.\"\n",
    "split_sentence = sentence.split()\n",
    "\n",
    "for word in split_sentence:\n",
    "    print(nltk.pos_tag([word]))"
   ]
  }
 ],
 "metadata": {
  "kernelspec": {
   "display_name": "tensorflow-keras",
   "language": "python",
   "name": "python3"
  },
  "language_info": {
   "codemirror_mode": {
    "name": "ipython",
    "version": 3
   },
   "file_extension": ".py",
   "mimetype": "text/x-python",
   "name": "python",
   "nbconvert_exporter": "python",
   "pygments_lexer": "ipython3",
   "version": "3.11.0"
  }
 },
 "nbformat": 4,
 "nbformat_minor": 2
}
